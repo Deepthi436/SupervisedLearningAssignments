{
 "cells": [
  {
   "cell_type": "code",
   "execution_count": null,
   "metadata": {},
   "outputs": [],
   "source": [
    "#1. Create a 1D array of numbers from 0 to 9.\n",
    "import numpy as np\n",
    "array = np.arange(0,9)\n",
    "print(array)\n",
    "array"
   ]
  },
  {
   "cell_type": "code",
   "execution_count": null,
   "metadata": {},
   "outputs": [],
   "source": [
    "#2. Create a 3×3 numpy array of all True’s\n",
    "all_true_array = np.ones((3, 3), dtype=bool)\n",
    "all_true_array"
   ]
  },
  {
   "cell_type": "code",
   "execution_count": null,
   "metadata": {},
   "outputs": [],
   "source": [
    "#3.Given an array as input, print only odd numbers as output\n",
    "array_numbers = np.array([1,2,3,4,5,6,7,8,9])\n",
    "odd_numbers = array_numbers[np.where(array_numbers % 2 != 0)]\n",
    "print(odd_numbers)\n",
    "\n",
    "#4. Replace all odd numbers in arr with -2\n",
    "array_numbers[np.where(array_numbers % 2 != 0)] = -2\n",
    "array_numbers"
   ]
  },
  {
   "cell_type": "code",
   "execution_count": null,
   "metadata": {},
   "outputs": [],
   "source": [
    "#5.How to reshape an array\n",
    "#reshape can be done by using 'reshape()'function\n",
    "\n",
    "#6.Convert a 1D array to a 2D array with 2 rows\n",
    "resized = np.resize(array_numbers,(2,2))\n",
    "resized"
   ]
  },
  {
   "cell_type": "code",
   "execution_count": null,
   "metadata": {},
   "outputs": [],
   "source": [
    "#7.Given an array  a  = [1,2,3,4,5,6,7,8,9] , create  new array b from a such that b includes all odd numbers and 4 multiples.\n",
    "a  = np.array([1,2,3,4,5,6,7,8,9])\n",
    "b= a[np.where((a%2 !=0) & (a%4==0))]"
   ]
  },
  {
   "cell_type": "code",
   "execution_count": null,
   "metadata": {},
   "outputs": [],
   "source": [
    "#8.Given array, check if there are any null values and print them out. \n",
    "\n",
    "#9.How to replace all missing values with 0 in a numpy array?\n",
    "#can be done by assigning 0 to all the null values\n",
    "#a[np.where(np.isnan(a))] = 0\n",
    "\n",
    "#10.  How to find the count of each unique number in a NumPy array?\n",
    "\n",
    "array = np.array([1,1,2,2,3,3,4,4])\n",
    "(unique, counts) = np.unique(array, return_counts=True)\n",
    "frequencies = np.asarray((unique, counts)).T\n",
    "print(frequencies)"
   ]
  },
  {
   "cell_type": "code",
   "execution_count": null,
   "metadata": {},
   "outputs": [],
   "source": [
    "# 11.How to convert a numeric to a categorical (text) array?\n",
    "import pandas as pd\n",
    "array = np.array([1,2,3,4,5,6])\n",
    "categorical = array.astype(str)\n",
    "categorical"
   ]
  },
  {
   "cell_type": "code",
   "execution_count": null,
   "metadata": {},
   "outputs": [],
   "source": [
    "#12.Write a program to print all numbers between 99 and 299 which are either divisible by 5 or 7. Exclude the elements which are divisible by both.\n",
    "\n",
    "array = np.arange(99,299)\n",
    "\n",
    "output = array[(np.where(((array % 5|array % 7)==0)))]\n",
    "print(output)\n",
    "output_final =np.delete(output,(np.where(((array %5 & array % 7)==0))))\n",
    "output_final\n"
   ]
  },
  {
   "cell_type": "code",
   "execution_count": null,
   "metadata": {},
   "outputs": [],
   "source": [
    "#13.Write a program to reverse an array and print (Don’t use inbuilt reverse functions)\n",
    "array_to_reverse = np.array([1, 2, 3, 4, 5, 6]) \n",
    "reversed_array = array_to_reverse[::-1]\n",
    "reversed_array"
   ]
  }
 ],
 "metadata": {
  "kernelspec": {
   "display_name": "Python 3",
   "language": "python",
   "name": "python3"
  },
  "language_info": {
   "codemirror_mode": {
    "name": "ipython",
    "version": 3
   },
   "file_extension": ".py",
   "mimetype": "text/x-python",
   "name": "python",
   "nbconvert_exporter": "python",
   "pygments_lexer": "ipython3",
   "version": "3.8.3"
  }
 },
 "nbformat": 4,
 "nbformat_minor": 4
}
