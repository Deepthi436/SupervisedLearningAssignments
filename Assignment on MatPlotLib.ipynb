{
 "cells": [
  {
   "cell_type": "code",
   "execution_count": null,
   "metadata": {},
   "outputs": [],
   "source": [
    "#1.In Iris Dataset, plot a scatter plot differentiating each classifier with a boundary\n",
    "\n",
    "import pandas as pd\n",
    "import numpy as np\n",
    "import matplotlib.pyplot as plt\n",
    "import seaborn as sns \n",
    "\n",
    "df_iris = pd.read_csv(r'C:\\Users\\pc\\Desktop\\end to end data sets\\iris.csv')\n",
    "df_iris.head()\n",
    "\n",
    "sns.FacetGrid(df_iris, hue =\"Species\",  \n",
    "              height = 6).map(plt.scatter,  \n",
    "                              'Sepal.Length',  \n",
    "                              'Petal.Length').add_legend() "
   ]
  },
  {
   "cell_type": "code",
   "execution_count": null,
   "metadata": {},
   "outputs": [],
   "source": [
    "#2. In wine quality dataset, plot a correlation matrix for all numerical variables and find out which columns are highly correlated to each other\n",
    "\n",
    "df_wine = pd.read_csv(r'C:\\Users\\pc\\Desktop\\end to end data sets\\winequality-red.csv')\n",
    "\n",
    "plt.matshow(df_wine.corr())\n",
    "plt.show()"
   ]
  },
  {
   "cell_type": "code",
   "execution_count": null,
   "metadata": {},
   "outputs": [],
   "source": [
    "df_titanic = pd.read_csv(r'C:\\Users\\pc\\Desktop\\end to end data sets\\titanic.csv')\n",
    "df_titanic.head()\n",
    "df_titanic.plot(subplots=True,layout=(3,3))"
   ]
  },
  {
   "cell_type": "code",
   "execution_count": null,
   "metadata": {},
   "outputs": [],
   "source": [
    "#4. In the diabetes dataset, visualize the numerical variables using histogram and make use of subplots while plotting\n",
    "#df_diabetics = pd.read_csv(r'C:\\Users\\pc\\Desktop\\end to end data sets\\diabetes.csv')\n",
    "#df_diabetics[['6','148','72','35','0','50','1']].plot(kind = 'bar')\n",
    "#5.\n"
   ]
  },
  {
   "cell_type": "code",
   "execution_count": null,
   "metadata": {},
   "outputs": [],
   "source": [
    "\n",
    "#6. In the breast cancer dataset, visualize the malignant and benign diagnosis.\n",
    "df_cancer = pd.read_csv(r'C:\\Users\\pc\\Desktop\\end to end data sets\\breast-cancer-data.csv')\n",
    "df_cancer[\"diagnosis\"].value_counts().plot(kind='bar')\n",
    "#7.In the same breast cancer dataset, plot the columns 'radius_mean', 'texture_mean' along with the col 'perimeter_mean'\n",
    "df_cancer[['radius_mean','texture_mean','perimeter_mean']].plot(kind ='bar')"
   ]
  },
  {
   "cell_type": "code",
   "execution_count": null,
   "metadata": {},
   "outputs": [],
   "source": [
    "#8. In the diabetes dataset , plot the confusion matrix along with the ROC Curve using subplot.\n"
   ]
  },
  {
   "cell_type": "code",
   "execution_count": null,
   "metadata": {},
   "outputs": [],
   "source": [
    "#9.In Boston housing dataset, plot scatter of 'LSTAT' Vs 'MEDV', 'INDUS' Vs 'MEDV' and 'TAX' and 'MEDV'.\n",
    "df_house = pd.read_csv(r'C:\\Users\\pc\\Desktop\\end to end data sets\\boston_house_price.csv')\n",
    "df_house.head()"
   ]
  },
  {
   "cell_type": "code",
   "execution_count": null,
   "metadata": {},
   "outputs": [],
   "source": [
    "plt.scatter(x=df_house['LSTAT'],y = df_house['MEDV'])\n",
    "plt.scatter(x=df_house['INDUS'],y = df_house['MEDV'])\n",
    "plt.scatter(x=df_house['TAX'],y = df_house['MEDV'])\n"
   ]
  },
  {
   "cell_type": "code",
   "execution_count": null,
   "metadata": {},
   "outputs": [],
   "source": [
    "#In the diabetes dataset, plot a pie-chart showing % of diabetes and % of non-diabetes.\n",
    "df_diabetes = pd.read_csv(r'C:\\Users\\pc\\Desktop\\end to end data sets\\diabetes.csv')\n",
    "df_diabetes.head()"
   ]
  },
  {
   "cell_type": "code",
   "execution_count": null,
   "metadata": {},
   "outputs": [],
   "source": [
    "#plt.pie(x = df_diabetes['1'],labels=df_diabetes[\"1\"],autopct='%1.1f%%')\n",
    "\n",
    "labels = [\"diabetic\", \"non-diabetic\"]\n",
    "plt = df_diabetes.plot.pie(y=df_diabetes[['1']],figsize=(5,5))\n",
    "\n",
    "\n",
    "#plot.pie(y='EMI_Paid', figsize=(5,5),labels=df['Name'])\n",
    "plt.show()\n",
    "\n",
    "\n",
    "\n"
   ]
  },
  {
   "cell_type": "code",
   "execution_count": null,
   "metadata": {},
   "outputs": [],
   "source": []
  }
 ],
 "metadata": {
  "kernelspec": {
   "display_name": "Python 3",
   "language": "python",
   "name": "python3"
  },
  "language_info": {
   "codemirror_mode": {
    "name": "ipython",
    "version": 3
   },
   "file_extension": ".py",
   "mimetype": "text/x-python",
   "name": "python",
   "nbconvert_exporter": "python",
   "pygments_lexer": "ipython3",
   "version": "3.8.3"
  }
 },
 "nbformat": 4,
 "nbformat_minor": 4
}
