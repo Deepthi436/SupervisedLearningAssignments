{
 "cells": [
  {
   "cell_type": "code",
   "execution_count": null,
   "metadata": {},
   "outputs": [],
   "source": [
    "#1.Create a Datatime index containing all the weekdays days of year 2019 and assign a random number to each of them in a dataframe.\n",
    "import pandas as pd\n",
    "import numpy as np\n",
    "\n",
    "\n",
    "s = pd.date_range('2020-01-01','2020-12-31', freq='D')\n",
    "weekdays = [d for d in s if d.weekday() not in (5, 6)]\n",
    "df = pd.DataFrame(np.random.randint(0,500),\n",
    "                 columns=[\"Random\"],\n",
    "                 index=weekdays)\n"
   ]
  },
  {
   "cell_type": "code",
   "execution_count": null,
   "metadata": {},
   "outputs": [],
   "source": [
    "#2.Given Pandas series , height = [23,42,55] and weight = [71,32,48] . Create a dataframe with height and weight as column names\n",
    "\n",
    "height = [23,42,55]\n",
    "weight = [71,32,48]\n",
    "\n",
    "df = pd.DataFrame({'height':height,'weight':weight})"
   ]
  },
  {
   "cell_type": "code",
   "execution_count": null,
   "metadata": {},
   "outputs": [],
   "source": [
    "#3.How to get the items of series A not present in series B .From ser1 remove items present in ser2.\n",
    "\n",
    "ser1 = pd.Series([2,3,4,5])\n",
    "ser2 = pd.Series([5,6,7,8])\n",
    "result = ser1[~ser1.isin(ser2)]\n",
    "result\n"
   ]
  },
  {
   "cell_type": "code",
   "execution_count": null,
   "metadata": {},
   "outputs": [],
   "source": [
    "df_titanic = pd.read_csv(r'C:\\Users\\pc\\Desktop\\end to end data sets\\titanic.csv')"
   ]
  },
  {
   "cell_type": "code",
   "execution_count": null,
   "metadata": {},
   "outputs": [],
   "source": [
    "#4.Compute the minimum, 25th percentile, median, 75th, and maximum of age in titanic dataset\n",
    "df_titanic.head()\n",
    "df_titanic['Age'].describe()"
   ]
  },
  {
   "cell_type": "code",
   "execution_count": null,
   "metadata": {},
   "outputs": [],
   "source": [
    "#5.How to get frequency counts of unique items of a series? Calculate the frequency counts of ‘SibSp’ column in titanic Dataset\n",
    "df_titanic.groupby('SibSp').size()\n"
   ]
  },
  {
   "cell_type": "code",
   "execution_count": null,
   "metadata": {},
   "outputs": [],
   "source": [
    "#6. Keep only top 2 most frequent values as it is and replace everything else as ‘Other’ in ‘Embarked’ column of titanic dataset\n",
    "\n",
    "df_titanic.SibSp[~df_titanic['SibSp'].isin(df_titanic['SibSp'].value_counts().index[:2])] = 'Other'\n"
   ]
  },
  {
   "cell_type": "code",
   "execution_count": null,
   "metadata": {},
   "outputs": [],
   "source": [
    "#7.Bin the price column in titanic data set into 5 equal groups and get counts of each bin\n",
    "pd.qcut(df_titanic['Fare'], q=5).value_counts()\n",
    "\n",
    "\n"
   ]
  },
  {
   "cell_type": "code",
   "execution_count": null,
   "metadata": {},
   "outputs": [],
   "source": [
    "#8.Count the number of missing values in each column?\n",
    "df_titanic.isnull().sum()"
   ]
  },
  {
   "cell_type": "code",
   "execution_count": null,
   "metadata": {},
   "outputs": [],
   "source": [
    "#9.Get the row number of the 5th largest value in the Age column of titanic dataset?\n",
    "df_titanic.nlargest(5, 'Age', keep='first')"
   ]
  },
  {
   "cell_type": "code",
   "execution_count": null,
   "metadata": {},
   "outputs": [],
   "source": [
    "#10.Get the row number of the 5th largest value in the Age column of titanic dataset?\n",
    "df_titanic['Age'].nlargest(5).iloc[[-1]]"
   ]
  },
  {
   "cell_type": "code",
   "execution_count": null,
   "metadata": {},
   "outputs": [],
   "source": [
    "#11.Normalize all columns in a dataframe?"
   ]
  },
  {
   "cell_type": "code",
   "execution_count": null,
   "metadata": {},
   "outputs": [],
   "source": [
    "#Get the indices of items of ser2 in ser1 as a list.\n",
    "ser3 = pd.Series([10,9,6,5,3,1,12,8,13])\n",
    "ser4 = pd.Series([1,3,10,13])\n",
    "[pd.Index(ser3).get_loc(i) for i in ser4]"
   ]
  },
  {
   "cell_type": "code",
   "execution_count": null,
   "metadata": {},
   "outputs": [],
   "source": [
    "#How to convert a series of date-strings to a timeseries?\n",
    "ser = pd.Series(['01 Jan 2010', '02-02-2011', '20120303', '2013/04/04', '2014-05-05', '2015-06-06T12:20'])\n",
    "pd.to_datetime(ser)"
   ]
  },
  {
   "cell_type": "code",
   "execution_count": null,
   "metadata": {},
   "outputs": [],
   "source": [
    "#Get the day of month, week number, day of year and day of week from ser\n",
    "ser = pd.Series(['01 Jan 2010', '02-02-2011', '20120303', '2013/04/04', '2014-05-05', '2015-06-06T12:20'])\n",
    "\n",
    "from dateutil.parser import parse\n",
    "ser_ts = ser.map(lambda x: parse(x))\n",
    "\n",
    "# day of month\n",
    "print(\"Date: \", ser_ts.dt.day.tolist())\n",
    "\n",
    "# week number\n",
    "print(\"Week number: \", ser_ts.dt.weekofyear.tolist())\n",
    "\n",
    "# day of year\n",
    "print(\"Day number of year: \", ser_ts.dt.dayofyear.tolist())\n",
    "\n",
    "# day of week\n",
    "print(\"Day of week: \", ser_ts.dt.day_name())"
   ]
  },
  {
   "cell_type": "code",
   "execution_count": null,
   "metadata": {},
   "outputs": [],
   "source": [
    "#14. Compute the euclidean distance between series (points) p and q, without using a packaged formula.\n",
    "\n",
    "p = pd.Series([1, 2, 3, 4, 5, 6, 7, 8, 9, 10])\n",
    "q = pd.Series([10, 9, 8, 7, 6, 5, 4, 3, 2, 1])\n",
    "\n",
    "sum((p - q)**2)**.5\n"
   ]
  },
  {
   "cell_type": "code",
   "execution_count": null,
   "metadata": {},
   "outputs": [],
   "source": [
    "#15. How to create a TimeSeries starting ‘2000-01-01’ and 10 weekends (saturdays/sundays)\n",
    "\n",
    "ser = pd.Series(pd.date_range('2000-01-01', periods=10, freq='W-SAT'))\n",
    "ser\n"
   ]
  },
  {
   "cell_type": "code",
   "execution_count": null,
   "metadata": {},
   "outputs": [],
   "source": [
    "#Import every 50th row of BostonHousing dataset as a dataframe\n",
    "df = pd.read_csv(r'C:\\Users\\pc\\Desktop\\end to end data sets\\boston_house_price.csv', chunksize=50)\n",
    "df2 = pd.DataFrame()\n",
    "for chunk in df:\n",
    "    df2 = df2.append(chunk.iloc[0,:])"
   ]
  }
 ],
 "metadata": {
  "kernelspec": {
   "display_name": "Python 3",
   "language": "python",
   "name": "python3"
  },
  "language_info": {
   "codemirror_mode": {
    "name": "ipython",
    "version": 3
   },
   "file_extension": ".py",
   "mimetype": "text/x-python",
   "name": "python",
   "nbconvert_exporter": "python",
   "pygments_lexer": "ipython3",
   "version": "3.8.3"
  }
 },
 "nbformat": 4,
 "nbformat_minor": 4
}
