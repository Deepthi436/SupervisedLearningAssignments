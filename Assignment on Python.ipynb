{
 "cells": [
  {
   "cell_type": "code",
   "execution_count": 72,
   "metadata": {},
   "outputs": [
    {
     "name": "stdout",
     "output_type": "stream",
     "text": [
      "{'apple': 0.25, 'sugar': 0.5, 'rice': 2.5, 'milk': 2.5, 'egg': 1}\n",
      "{'apple': 0.25, 'sugar': 0.5, 'rice': 2.5, 'milk': 2.5, 'egg': 1, 'atta': 1}\n",
      "{'apple': 0.25, 'sugar': 0.5, 'rice': 1, 'milk': 2.5, 'egg': 1, 'atta': 1}\n",
      "0.25\n",
      "0.5\n",
      "1\n",
      "2.5\n",
      "1\n",
      "1\n",
      "apple\n",
      "sugar\n",
      "rice\n",
      "milk\n",
      "egg\n",
      "atta\n",
      "{'apple': 55.0, 'sugar': 21.5, 'rice': 45, 'milk': 75.0, 'egg': 60}\n",
      "THE TOTAL BILL IS 256.5\n"
     ]
    }
   ],
   "source": [
    "#Dictionary\n",
    "#In the weekend , I purchased 250g of apple, 500g of sugar, 2.5 kg of rice, 2.5 litres of milk and finally 1 dozen of egg.\n",
    "#1.Can you help me frame the above purchase in the form of dictionary with commodities as keys to it.\n",
    "Commodities = {\"apple\":0.25,\"sugar\":0.5,\"rice\":2.5,\"milk\":2.5,\"egg\":1}\n",
    "print(Commodities)\n",
    "\n",
    "#2.I forgot to mention another item, 1kg of atta packet. Can you also add it ?\n",
    "Commodities.update({\"atta\":1})\n",
    "print(Commodities)\n",
    "\n",
    "#3.Instead of 2kg of rice, I bought only 1kg of rice. Can you change the corresponding value ?\n",
    "Commodities[\"rice\"] = 1\n",
    "print(Commodities)\n",
    "\n",
    "#4.Can you list out all these items using a loop.-to get quantities\n",
    "for commodities in Commodities:\n",
    "    print(Commodities[commodities])\n",
    "\n",
    "#4.Can you list out all these items using a loop.-to get items\n",
    "for commodities in Commodities:\n",
    "    print(commodities)\n",
    "\n",
    "#However, the cost of 1 kg apple is Rs.220, 1 kg of sugar is Rs.43, 1 Kg of rice is Rs. 45, 1 litre of milk is Rs.30 and 1 dozen of egg is Rs. 60.\n",
    "#Create another dictionary for pricing.\n",
    "\n",
    "Prices = {\"apple\":220,\"sugar\":43,\"rice\":45,\"milk\":30, \"egg\":60}\n",
    "\n",
    "Price_of_each_commodity =  {commodity : price * Prices[commodity] for commodity, price in Commodities.items() if commodity in Prices}\n",
    "\n",
    "print(Price_of_each_commodity)\n",
    "\n",
    "only_prices_of_each_commodity = Price_of_each_commodity.values()\n",
    "Total_price = sum(only_prices_of_each_commodity)\n",
    "print(\"THE TOTAL BILL IS\",Total_price)"
   ]
  },
  {
   "cell_type": "code",
   "execution_count": 53,
   "metadata": {},
   "outputs": [
    {
     "name": "stdout",
     "output_type": "stream",
     "text": [
      "['Amazon', 'Apple', 'Facebook', 'Google', 'HiSilicon', 'Microsoft', 'SenseTime']\n",
      "['Amazon', 'Apple', 'Facebook', 'Google', 'HiSilicon', 'Microsoft', 'SenseTime', 'Nvidia', 'OpenAI', 'Qualcomm', 'Reliance']\n",
      "['amazon', 'apple', 'facebook', 'google', 'hisilicon', 'microsoft', 'sensetime', 'nvidia', 'openai', 'qualcomm', 'reliance']\n",
      "['Amazon', 'Apple', 'Facebook', 'Google', 'HiSilicon', 'Microsoft', 'SenseTime', 'Nvidia', 'OpenAI', 'Qualcomm']\n",
      "['Facebook', 'Google', 'Microsoft']\n"
     ]
    }
   ],
   "source": [
    "#Assignment on List\n",
    "AI_companies = ['Amazon','Facebook','HiSilicon','Google','Apple','Microsoft','SenseTime']\n",
    "\n",
    "# Sort the list in ascending order\n",
    "AI_companies.sort()\n",
    "print(AI_companies)\n",
    "\n",
    "#Add multiple companies at once 'Nvidia', 'OpenAI' , 'Qualcomm' and 'Reliance' to the list\n",
    "AI_companies.extend(['Nvidia','OpenAI','Qualcomm','Reliance'])\n",
    "print(AI_companies)\n",
    "\n",
    "#Lower the list using List comprehension\n",
    "AI_companies_lower = [company.lower() for company in AI_companies]\n",
    "print(AI_companies_lower)\n",
    "\n",
    "#Elimiate 'Reliance' from the list\n",
    "Reliance_removed = AI_companies.remove('Reliance')\n",
    "print(AI_companies)\n",
    "\n",
    "\n",
    "#Extract 'Facebook', 'Google' and 'Microsoft' using a single command\n",
    "Extracted = [AI_companies[2],AI_companies[3],AI_companies[5]]\n",
    "print(Extracted)\n"
   ]
  },
  {
   "cell_type": "code",
   "execution_count": 69,
   "metadata": {},
   "outputs": [
    {
     "name": "stdout",
     "output_type": "stream",
     "text": [
      "30\n",
      "220\n",
      "(220, 43, 45, 30, 60, 'Amazon', 'Facebook', 'HiSilicon', 'Google', 'Apple', 'Microsoft', 'SenseTime')\n",
      "length of Prices is less than AI_companies\n"
     ]
    }
   ],
   "source": [
    "#Assignment on Tuple\n",
    "#(a)Consider the above standard price problem statement and place the prices in the form of the tuple.\n",
    "Prices=(220,43,45,30,60)\n",
    "\n",
    "#(b)Find out the min and max price among them.\n",
    "print(min(Prices))\n",
    "print(max(Prices))\n",
    "\n",
    "#(c)Also, convert the above \"AI_companies\" list to a tuple.\n",
    "AI_companies = ('Amazon','Facebook','HiSilicon','Google','Apple','Microsoft','SenseTime')\n",
    "\n",
    "#Combine two above tuples to a single tuple.\n",
    "Combined = Prices + AI_companies\n",
    "print(Combined)\n",
    "\n",
    "#(e)Compare the length of two tuples.\n",
    "if len(Prices)>len(AI_companies):\n",
    "    print(\"length of Prices is greater than AI_companies\")\n",
    "else:\n",
    "    print(\"length of Prices is less than AI_companies\")\n",
    "\n",
    "\n",
    "\n"
   ]
  },
  {
   "cell_type": "code",
   "execution_count": 83,
   "metadata": {},
   "outputs": [
    {
     "name": "stdout",
     "output_type": "stream",
     "text": [
      "328\n",
      " i am very keen in building up my career in data science, but not sure from where to start. if i search the web it throws me thousands of articles, few are relevant others make me confused, again i come around to the same page. supervised has provided me a good platform to remove all such qualms which were wrangling in my mind\n"
     ]
    },
    {
     "data": {
      "text/plain": [
       "['Data Science']"
      ]
     },
     "execution_count": 83,
     "metadata": {},
     "output_type": "execute_result"
    }
   ],
   "source": [
    "#Assignment on Strings\n",
    "\n",
    "Text = \" I am very keen in building up my career in Data Science, but not sure from where to start. If I search the web it throws me thousands of articles, few are relevant others make me confused, again I come around to the same page. Supervised has provided me a good platform to remove all such qualms which were wrangling in my mind\"\n",
    "#Consider the above text as a string, figure out the average length of the string.\n",
    "print(len(Text))\n",
    "\n",
    "#Lower the text in the string.\n",
    "print(Text.lower())\n",
    "\n",
    "#Try to get the clean text removing the punctuation from the string.---need to do\n",
    "\n",
    "#Extract word \"Data Science\" from the string.\n",
    "import re\n",
    "word_to_extract = 'Data Science'\n",
    "re.findall(word_to_extract,Text)\n",
    "\n",
    "\n",
    "\n"
   ]
  },
  {
   "cell_type": "code",
   "execution_count": null,
   "metadata": {},
   "outputs": [],
   "source": []
  }
 ],
 "metadata": {
  "kernelspec": {
   "display_name": "Python 3",
   "language": "python",
   "name": "python3"
  },
  "language_info": {
   "codemirror_mode": {
    "name": "ipython",
    "version": 3
   },
   "file_extension": ".py",
   "mimetype": "text/x-python",
   "name": "python",
   "nbconvert_exporter": "python",
   "pygments_lexer": "ipython3",
   "version": "3.8.3"
  }
 },
 "nbformat": 4,
 "nbformat_minor": 4
}
